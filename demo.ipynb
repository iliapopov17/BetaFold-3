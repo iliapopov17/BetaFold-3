{
 "cells": [
  {
   "cell_type": "code",
   "execution_count": 1,
   "metadata": {},
   "outputs": [],
   "source": [
    "from bio_files_processor import *\n",
    "from sequence_forge import *"
   ]
  },
  {
   "cell_type": "markdown",
   "metadata": {},
   "source": [
    "### **Example of using the `convert_multiline_fasta_to_online` function**"
   ]
  },
  {
   "cell_type": "code",
   "execution_count": 12,
   "metadata": {},
   "outputs": [
    {
     "name": "stdout",
     "output_type": "stream",
     "text": [
      "Converted multiline FASTA to one-line FASTA. Saved as demo_data/example_oneline_fasta.fasta\n"
     ]
    }
   ],
   "source": [
    "input_fasta_file = \"demo_data/example_multiline_fasta.fasta\"\n",
    "output_fasta_file = \"demo_data/example_oneline_fasta.fasta\"\n",
    "convert_multiline_fasta_to_oneline(input_fasta_file, output_fasta_file)"
   ]
  },
  {
   "cell_type": "markdown",
   "metadata": {},
   "source": [
    "### **Example of using the `change_fasta_start_pos` function**"
   ]
  },
  {
   "cell_type": "code",
   "execution_count": 13,
   "metadata": {},
   "outputs": [
    {
     "name": "stdout",
     "output_type": "stream",
     "text": [
      "Shifted FASTA sequence saved to demo_data/example_oneline_fasta_shifted.fasta\n"
     ]
    }
   ],
   "source": [
    "input_fasta_file = \"demo_data/example_oneline_fasta.fasta\"\n",
    "shift_amount = 10\n",
    "change_fasta_start_pos(input_fasta_file, shift_amount)"
   ]
  },
  {
   "cell_type": "markdown",
   "metadata": {},
   "source": [
    "### **Example of using the `parse_blast_output` function**"
   ]
  },
  {
   "cell_type": "code",
   "execution_count": 14,
   "metadata": {},
   "outputs": [
    {
     "name": "stdout",
     "output_type": "stream",
     "text": [
      "Best BLAST results saved to demo_data/example_blast_results_parsed.txt\n"
     ]
    }
   ],
   "source": [
    "input_file = \"demo_data/example_blast_results.txt\"\n",
    "parse_blast_output(input_file)"
   ]
  },
  {
   "cell_type": "markdown",
   "metadata": {},
   "source": [
    "### **Example of using the `fastq_filter` function**"
   ]
  },
  {
   "cell_type": "code",
   "execution_count": 15,
   "metadata": {},
   "outputs": [
    {
     "name": "stdout",
     "output_type": "stream",
     "text": [
      "Filtered FastQ. Saved as demo_data/example_fastq_filtered.fastq\n"
     ]
    }
   ],
   "source": [
    "input_file = \"demo_data/example_fastq.fastq\"\n",
    "fastq_filter(input_file, gc_bound=(40,60), length_bound=(0, 200), quality_threshold=25)"
   ]
  },
  {
   "cell_type": "markdown",
   "metadata": {},
   "source": [
    "### **Example usage of `DNASequence` class**"
   ]
  },
  {
   "cell_type": "code",
   "execution_count": 2,
   "metadata": {},
   "outputs": [
    {
     "name": "stdout",
     "output_type": "stream",
     "text": [
      "<class 'sequence_forge.DNASequence'>\n",
      "DNA Sequence: ACCGGCTAATCGGCT\n",
      "Length: 15\n",
      "GC Content: 0.6\n",
      "Complement: TGGCCGATTAGCCGA\n",
      "Transcribed RNA Sequence: UGGCCGAUUAGCCGA\n",
      "Indexes of CGG motif occurrences: [2, 10]\n"
     ]
    }
   ],
   "source": [
    "dna_sequence = DNASequence(\"ACCGGCTAATCGGCT\")\n",
    "motif_to_find = \"CGG\"\n",
    "print(type(dna_sequence))\n",
    "print(\"DNA Sequence:\", dna_sequence)\n",
    "print(\"Length:\", len(dna_sequence))\n",
    "print(\"GC Content:\", dna_sequence.gc_content())\n",
    "print(\"Complement:\", dna_sequence.complement())\n",
    "print(\"Transcribed RNA Sequence:\", dna_sequence.transcribe())\n",
    "print(f\"Indexes of {motif_to_find} motif occurrences:\", dna_sequence.find_motif(motif_to_find))"
   ]
  },
  {
   "cell_type": "markdown",
   "metadata": {},
   "source": [
    "### **Example usage of `RNASequence` class**"
   ]
  },
  {
   "cell_type": "code",
   "execution_count": 6,
   "metadata": {},
   "outputs": [
    {
     "name": "stdout",
     "output_type": "stream",
     "text": [
      "<class 'sequence_forge.RNASequence'>\n",
      "RNA Sequence: UGGCCGAUUAGCCGA\n",
      "Length: 15\n",
      "GC Content: 0.6\n",
      "Codons: ['UGG', 'CCG', 'AUU', 'AGC', 'CGA']\n",
      "Indexes of GCC motif occurrences: [2, 10]\n",
      "Tranlated to Amino Acid Sequence: WPISR\n"
     ]
    }
   ],
   "source": [
    "rna_sequence = dna_sequence.transcribe()\n",
    "motif_to_find = \"GCC\"\n",
    "print(type(rna_sequence))\n",
    "print(\"RNA Sequence:\", rna_sequence)\n",
    "print(\"Length:\", len(rna_sequence))\n",
    "print(\"GC Content:\", rna_sequence.gc_content())\n",
    "print(\"Codons:\", rna_sequence.codons())\n",
    "print(f\"Indexes of {motif_to_find} motif occurrences:\", rna_sequence.find_motif(motif_to_find))\n",
    "print(\"Tranlated to Amino Acid Sequence:\", rna_sequence.translate())"
   ]
  },
  {
   "cell_type": "markdown",
   "metadata": {},
   "source": [
    "### **Example usage of `AminoAcidSequence` class**"
   ]
  },
  {
   "cell_type": "code",
   "execution_count": 5,
   "metadata": {},
   "outputs": [
    {
     "name": "stdout",
     "output_type": "stream",
     "text": [
      "<class 'sequence_forge.AminoAcidSequence'>\n",
      "Amino Acid Sequence: WPISR\n",
      "Length: 5\n",
      "Molecular Weight: 729.8299999999999\n"
     ]
    }
   ],
   "source": [
    "amino_acid_sequence = rna_sequence.translate()\n",
    "print(type(amino_acid_sequence))\n",
    "print(\"Amino Acid Sequence:\", amino_acid_sequence)\n",
    "print(\"Length:\", len(amino_acid_sequence))\n",
    "print(\"Molecular Weight:\", amino_acid_sequence.get_molecular_weight())"
   ]
  }
 ],
 "metadata": {
  "kernelspec": {
   "display_name": "Python 3",
   "language": "python",
   "name": "python3"
  },
  "language_info": {
   "codemirror_mode": {
    "name": "ipython",
    "version": 3
   },
   "file_extension": ".py",
   "mimetype": "text/x-python",
   "name": "python",
   "nbconvert_exporter": "python",
   "pygments_lexer": "ipython3",
   "version": "3.12.0"
  }
 },
 "nbformat": 4,
 "nbformat_minor": 2
}

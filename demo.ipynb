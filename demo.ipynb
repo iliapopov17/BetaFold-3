{
 "cells": [
  {
   "cell_type": "code",
   "execution_count": 1,
   "metadata": {},
   "outputs": [],
   "source": [
    "from bio_files_processor import *"
   ]
  },
  {
   "cell_type": "code",
   "execution_count": 5,
   "metadata": {},
   "outputs": [
    {
     "name": "stdout",
     "output_type": "stream",
     "text": [
      "Converted multiline FASTA to one-line FASTA. Saved as output.fasta\n"
     ]
    }
   ],
   "source": [
    "# Пример использования функции convert_multiline_fasta_to_oneline\n",
    "input_fasta_file = \"example_data/example_multiline_fasta.fasta\"\n",
    "output_fasta_file = \"output.fasta\"\n",
    "convert_multiline_fasta_to_oneline(input_fasta_file, output_fasta_file)"
   ]
  },
  {
   "cell_type": "code",
   "execution_count": 4,
   "metadata": {},
   "outputs": [
    {
     "name": "stdout",
     "output_type": "stream",
     "text": [
      "Shifted FASTA sequence saved to example_data/example_oneline_fasta_shifted.fasta\n"
     ]
    }
   ],
   "source": [
    "# Пример использования функции change_fasta_start_pos\n",
    "input_fasta_file = \"example_data/example_oneline_fasta.fasta\"\n",
    "shift_amount = 2\n",
    "change_fasta_start_pos(input_fasta_file, shift_amount)"
   ]
  },
  {
   "cell_type": "code",
   "execution_count": 2,
   "metadata": {},
   "outputs": [
    {
     "name": "stdout",
     "output_type": "stream",
     "text": [
      "Best BLAST results saved to example_data/example_blast_results_parsed.txt\n"
     ]
    }
   ],
   "source": [
    "# Example usage\n",
    "input_file = \"example_data/example_blast_results.txt\"\n",
    "parse_blast_output(input_file)\n"
   ]
  },
  {
   "cell_type": "code",
   "execution_count": 1,
   "metadata": {},
   "outputs": [],
   "source": [
    "from sequence_forge import *"
   ]
  },
  {
   "cell_type": "code",
   "execution_count": 2,
   "metadata": {},
   "outputs": [],
   "source": [
    "fastq_filter('example_data/example_fastq.fastq', 'filtered_fastq', gc_bound=(40,60), length_bound=(0, 200), quality_threshold=25)"
   ]
  }
 ],
 "metadata": {
  "kernelspec": {
   "display_name": "Python 3",
   "language": "python",
   "name": "python3"
  },
  "language_info": {
   "codemirror_mode": {
    "name": "ipython",
    "version": 3
   },
   "file_extension": ".py",
   "mimetype": "text/x-python",
   "name": "python",
   "nbconvert_exporter": "python",
   "pygments_lexer": "ipython3",
   "version": "3.12.0"
  }
 },
 "nbformat": 4,
 "nbformat_minor": 2
}
